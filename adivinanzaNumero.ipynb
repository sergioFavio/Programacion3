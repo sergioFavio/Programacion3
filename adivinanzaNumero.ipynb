{
 "cells": [
  {
   "cell_type": "code",
   "execution_count": null,
   "metadata": {
    "colab": {
     "base_uri": "https://localhost:8080/"
    },
    "id": "nkhEYLu8L7mA",
    "outputId": "26351075-9623-4070-fb44-6f983053682f"
   },
   "outputs": [],
   "source": [
    "print('Hola Mundo')"
   ]
  },
  {
   "cell_type": "code",
   "execution_count": null,
   "metadata": {
    "colab": {
     "base_uri": "https://localhost:8080/"
    },
    "id": "A2w6PS33SYlY",
    "outputId": "275b1be0-3944-40ea-b101-b0de2407d391"
   },
   "outputs": [],
   "source": [
    "print('Brasil ganó 5 títulos mundiales de fútbol')"
   ]
  },
  {
   "cell_type": "code",
   "execution_count": null,
   "metadata": {
    "colab": {
     "base_uri": "https://localhost:8080/"
    },
    "id": "CaXv0rGgSn4Z",
    "outputId": "b2ff55a9-d23b-44f0-aab5-6836ad2ccf8d"
   },
   "outputs": [],
   "source": [
    "print('Brasil ganó 5 títulos mundiales de fútbol', sep=' ')"
   ]
  },
  {
   "cell_type": "code",
   "execution_count": null,
   "metadata": {
    "colab": {
     "base_uri": "https://localhost:8080/"
    },
    "id": "Ly2ywhz9TBXg",
    "outputId": "6e43151b-796c-49e6-f3e6-89abca89d5b0"
   },
   "outputs": [],
   "source": [
    "print('Brasil', 'ganó',5,'títulos mundiales','de fútbol', sep='-')"
   ]
  },
  {
   "cell_type": "code",
   "execution_count": null,
   "metadata": {
    "colab": {
     "base_uri": "https://localhost:8080/"
    },
    "id": "vEZS7ZCaTZJv",
    "outputId": "46e8e64e-b5f6-4388-f2e6-a5364dafefab"
   },
   "outputs": [],
   "source": [
    "print('Brasil', 'ganó',5,'títulos mundiales','de fútbol', end='\\n')"
   ]
  },
  {
   "cell_type": "code",
   "execution_count": null,
   "metadata": {
    "colab": {
     "base_uri": "https://localhost:8080/"
    },
    "id": "6zVTW631UfQH",
    "outputId": "660ec549-c58a-4076-94c9-9a4cba119e7a"
   },
   "outputs": [],
   "source": [
    "print('Brasil', 'ganó',5,'títulos mundiales','de fútbol', end='')"
   ]
  },
  {
   "cell_type": "code",
   "execution_count": null,
   "metadata": {
    "colab": {
     "base_uri": "https://localhost:8080/"
    },
    "id": "wQEUmhVvbBgP",
    "outputId": "b1390594-ec6c-4d96-f660-282e417d5ede"
   },
   "outputs": [],
   "source": [
    "print('=================================')\n",
    "print('Bienvenido al Juego de Adivinanza')\n",
    "print('=================================')\n",
    "\n",
    "numero_secreto = 77\n",
    "\n",
    "entrada = input('Digite un número ')\n",
    "\n",
    "print('Digitaste ...', entrada)\n",
    "\n",
    "if(entrada == numero_secreto):\n",
    "  print('Felicitaciones !!! ... adivinaste el número')\n",
    "else:\n",
    "  print('Lo siento ... no lograste adivinar el número')\n",
    "\n",
    "print('Fin del Juego')\n",
    "\n"
   ]
  },
  {
   "cell_type": "code",
   "execution_count": null,
   "metadata": {
    "colab": {
     "base_uri": "https://localhost:8080/"
    },
    "id": "rz_CtmxurKBs",
    "outputId": "68bb68f6-0839-4b2c-b4cf-0c9870eba474"
   },
   "outputs": [],
   "source": [
    "# comparando si las variables son del mismo tipo\n",
    "type(numero_secreto)"
   ]
  },
  {
   "cell_type": "code",
   "execution_count": null,
   "metadata": {
    "colab": {
     "base_uri": "https://localhost:8080/"
    },
    "id": "ZuHDciENrTLz",
    "outputId": "63ddcdac-d54a-454b-b527-a0a7a01809a8"
   },
   "outputs": [],
   "source": [
    "type(entrada)"
   ]
  },
  {
   "cell_type": "markdown",
   "metadata": {
    "id": "4vf3kCV6tYr1"
   },
   "source": [
    "#  Guiar al usuario si el número ingresado fue mayor o menor al número que se tiene que adivinar"
   ]
  },
  {
   "cell_type": "code",
   "execution_count": null,
   "metadata": {
    "colab": {
     "base_uri": "https://localhost:8080/"
    },
    "id": "rMNkqjPLuKdj",
    "outputId": "cc262e2b-e0f5-420c-c0e6-a2b9c26ae60a"
   },
   "outputs": [],
   "source": [
    "print('=================================')\n",
    "print('Bienvenido al Juego de Adivinanza')\n",
    "print('=================================')\n",
    "\n",
    "numero_secreto = 77\n",
    "\n",
    "entrada = input('Digite un número ')\n",
    "entrada= int(entrada)\n",
    "print('Digitaste ...', entrada)\n",
    "\n",
    "acertaste = entrada == numero_secreto  # iguales\n",
    "mayor = entrada > numero_secreto      # entrada es MAYOR\n",
    "menor = entrada < numero_secreto      # entrada es MENOR\n",
    "\n",
    "\n",
    "if(acertaste):\n",
    "  print('Felicitaciones !!! ... adivinaste el número')\n",
    "elif(mayor):\n",
    "  print('Lo siento ... el número que ingresaste es mayor que el número secreto')\n",
    "else:\n",
    "  print('Lo siento ... el número que ingresaste es menor que el número secreto')\n",
    "print('Fin del Juego')"
   ]
  },
  {
   "cell_type": "markdown",
   "metadata": {
    "id": "aovRnUvzzGoL"
   },
   "source": [
    "# Implementar iteraciones"
   ]
  },
  {
   "cell_type": "code",
   "execution_count": null,
   "metadata": {
    "colab": {
     "base_uri": "https://localhost:8080/"
    },
    "id": "x09BEPGUzExC",
    "outputId": "b0f896b3-2efa-403c-b322-1c9ace59bcdc"
   },
   "outputs": [],
   "source": [
    "print('=================================')\n",
    "print('Bienvenido al Juego de Adivinanza')\n",
    "print('=================================')\n",
    "\n",
    "numero_secreto = 77\n",
    "total_intentos = 3\n",
    "iteracion= 1\n",
    "\n",
    "while(iteracion<= total_intentos):\n",
    "  print('Intento: ',iteracion, ' de ',total_intentos)\n",
    "  entrada = input('Digite un número ')\n",
    "  entrada= int(entrada)\n",
    "  print('Digitaste ...', entrada)\n",
    "\n",
    "\n",
    "  acertaste = entrada == numero_secreto  # iguales\n",
    "  mayor = entrada > numero_secreto      # entrada es MAYOR\n",
    "  menor = entrada < numero_secreto      # entrada es MENOR\n",
    "\n",
    "\n",
    "  if(acertaste):\n",
    "    print('Felicitaciones !!! ... adivinaste el número')\n",
    "  elif(mayor):\n",
    "    print('Lo siento ... el número que ingresaste es mayor que el número secreto')\n",
    "  else:\n",
    "    print('Lo siento ... el número que ingresaste es menor que el número secreto')\n",
    "\n",
    "  iteracion = iteracion +1\n",
    "\n",
    "print('Fin del Juego')"
   ]
  },
  {
   "cell_type": "markdown",
   "metadata": {
    "id": "rRHI48gGCbp3"
   },
   "source": [
    "## Mejorando aún el código ... formateando los strings"
   ]
  },
  {
   "cell_type": "code",
   "execution_count": null,
   "metadata": {
    "colab": {
     "base_uri": "https://localhost:8080/"
    },
    "id": "EVIU_8CuCkdq",
    "outputId": "8d0d0875-9857-455e-8d6e-205a1c07672e"
   },
   "outputs": [],
   "source": [
    "print('=================================')\n",
    "print('Bienvenido al Juego de Adivinanza')\n",
    "print('=================================')\n",
    "\n",
    "numero_secreto = 77\n",
    "total_intentos = 3\n",
    "iteracion= 1\n",
    "\n",
    "while(iteracion<= total_intentos):\n",
    "  print('Intento: {} de {} '.format(iteracion,total_intentos))\n",
    "  entrada = input('Digite un número ')\n",
    "  entrada= int(entrada)\n",
    "  print('Digitaste ...', entrada)\n",
    "\n",
    "\n",
    "  acertaste = entrada == numero_secreto  # iguales\n",
    "  mayor = entrada > numero_secreto      # entrada es MAYOR\n",
    "  menor = entrada < numero_secreto      # entrada es MENOR\n",
    "\n",
    "\n",
    "  if(acertaste):\n",
    "    print('Felicitaciones !!! ... adivinaste el número')\n",
    "  elif(mayor):\n",
    "    print('Lo siento ... el número que ingresaste es mayor que el número secreto')\n",
    "  else:\n",
    "    print('Lo siento ... el número que ingresaste es menor que el número secreto')\n",
    "\n",
    "  iteracion = iteracion +1\n",
    "\n",
    "print('Fin del Juego')"
   ]
  },
  {
   "cell_type": "markdown",
   "metadata": {
    "id": "Hs3x-h4xF4p3"
   },
   "source": [
    "## Utilizando otro sentencia para LOOPS ... for i range(n1,n2,n3) y controlar que el numero ingrasado sea positivo y si adivinó del total de intentos, para el juego."
   ]
  },
  {
   "cell_type": "code",
   "execution_count": null,
   "metadata": {
    "colab": {
     "base_uri": "https://localhost:8080/"
    },
    "id": "pUYgIbXpGGoo",
    "outputId": "74ff8067-207e-40b9-bd80-a0bb90ad3e29"
   },
   "outputs": [],
   "source": [
    "print('=================================')\n",
    "print('Bienvenido al Juego de Adivinanza')\n",
    "print('=================================')\n",
    "\n",
    "numero_secreto = 77\n",
    "total_intentos = 3\n",
    "\n",
    "\n",
    "for iteracion in range(1, total_intentos +1):\n",
    "  print('Intento: {} de {} '.format(iteracion,total_intentos))\n",
    "  entrada = input('Digite un número entre 1 y 100')\n",
    "  entrada= int(entrada)\n",
    "  print('Digitaste ...', entrada)\n",
    "  if(entrada<1 or entrada >100):\n",
    "    print('Ingresar un número entre 1 y 100')\n",
    "    continue\n",
    "\n",
    "  acertaste = entrada == numero_secreto  # iguales\n",
    "  mayor = entrada > numero_secreto      # entrada es MAYOR\n",
    "  menor = entrada < numero_secreto      # entrada es MENOR\n",
    "\n",
    "\n",
    "  if(acertaste):\n",
    "    print('Felicitaciones !!! ... adivinaste el número')\n",
    "    break\n",
    "  elif(mayor):\n",
    "    print('Lo siento ... el número que ingresaste es mayor que el número secreto')\n",
    "  else:\n",
    "    print('Lo siento ... el número que ingresaste es menor que el número secreto')\n",
    "\n",
    "\n",
    "print('Fin del Juego')"
   ]
  },
  {
   "cell_type": "markdown",
   "metadata": {
    "id": "SX2XIf-XklV-"
   },
   "source": [
    "## Generar un número aleatorio... RANDOM"
   ]
  },
  {
   "cell_type": "code",
   "execution_count": null,
   "metadata": {
    "colab": {
     "base_uri": "https://localhost:8080/"
    },
    "id": "BkE3n7f1kv_t",
    "outputId": "5540730c-b93c-423d-c956-eff39cb1421c"
   },
   "outputs": [],
   "source": [
    "# generar número random\n",
    "import random\n",
    "random.random()"
   ]
  },
  {
   "cell_type": "code",
   "execution_count": null,
   "metadata": {
    "colab": {
     "base_uri": "https://localhost:8080/"
    },
    "id": "NPkOGz2xnukc",
    "outputId": "5d2571bb-c6a1-42c2-a70a-bd6e7eb13acb"
   },
   "outputs": [],
   "source": [
    "random.random()"
   ]
  },
  {
   "cell_type": "code",
   "execution_count": null,
   "metadata": {
    "colab": {
     "base_uri": "https://localhost:8080/"
    },
    "id": "7rEL2vDAon0j",
    "outputId": "14a4a55e-57ef-4719-b463-64a47e59ae90"
   },
   "outputs": [],
   "source": [
    "# genera un número random entre 1 y 100\n",
    "numero_random = random.random()*100\n",
    "numero_random"
   ]
  },
  {
   "cell_type": "code",
   "execution_count": null,
   "metadata": {
    "colab": {
     "base_uri": "https://localhost:8080/"
    },
    "id": "QC3OFejXpD1T",
    "outputId": "a1854b1f-9ed8-431d-f71b-53cb324eb4a1"
   },
   "outputs": [],
   "source": [
    "# genera un número random entre 0 y 100\n",
    "numero_random = round(random.random()*100)\n",
    "numero_random"
   ]
  },
  {
   "cell_type": "markdown",
   "metadata": {
    "id": "caMGcRFRuPRT"
   },
   "source": [
    "## Generar un numero entre 1 y 100 ..."
   ]
  },
  {
   "cell_type": "code",
   "execution_count": null,
   "metadata": {
    "colab": {
     "base_uri": "https://localhost:8080/"
    },
    "id": "5UO5X8iTuTnZ",
    "outputId": "cc02d36a-4949-4e24-85dc-184e7f56154a"
   },
   "outputs": [],
   "source": [
    "# genera un número random entre 1 y 100\n",
    "numero_random = random.randrange(1,101)\n",
    "numero_random"
   ]
  },
  {
   "cell_type": "markdown",
   "metadata": {
    "id": "X7TI0fpTqJF-"
   },
   "source": [
    "## Mejorando el código, generando el NUMERO SECRETO de manera aleatoria, tenemos ..."
   ]
  },
  {
   "cell_type": "code",
   "execution_count": null,
   "metadata": {
    "colab": {
     "base_uri": "https://localhost:8080/"
    },
    "id": "gnDelFF9qUSk",
    "outputId": "f241322d-6525-4a9d-c934-91c33a47b649"
   },
   "outputs": [],
   "source": [
    "import random\n",
    "print('=================================')\n",
    "print('Bienvenido al Juego de Adivinanza')\n",
    "print('=================================')\n",
    "\n",
    "numero_secreto = random.randrange(1,101)\n",
    "total_intentos = 15\n",
    "\n",
    "\n",
    "for iteracion in range(1, total_intentos +1):\n",
    "  print('Intento: {} de {} '.format(iteracion,total_intentos))\n",
    "  entrada = input('Digite un número entre 1 y 100: ')\n",
    "  entrada= int(entrada)\n",
    "  print('Digitaste ...', entrada)\n",
    "  if(entrada<1 or entrada >100):\n",
    "    print('Ingresar un número entre 1 y 100: ')\n",
    "    continue\n",
    "\n",
    "  acertaste = entrada == numero_secreto  # iguales\n",
    "  mayor = entrada > numero_secreto      # entrada es MAYOR\n",
    "  menor = entrada < numero_secreto      # entrada es MENOR\n",
    "\n",
    "\n",
    "  if(acertaste):\n",
    "    print('Felicitaciones !!! ... adivinaste el número')\n",
    "    break\n",
    "  elif(mayor):\n",
    "    print('Lo siento ... el número que ingresaste es mayor que el número secreto')\n",
    "  else:\n",
    "    print('Lo siento ... el número que ingresaste es menor que el número secreto')\n",
    "\n",
    "\n",
    "print('Fin del Juego')"
   ]
  },
  {
   "cell_type": "markdown",
   "metadata": {
    "id": "B4mkxcXNyR7K"
   },
   "source": [
    "## definiendo el nivel de dificultad ..."
   ]
  },
  {
   "cell_type": "code",
   "execution_count": null,
   "metadata": {
    "colab": {
     "base_uri": "https://localhost:8080/"
    },
    "id": "chS1u2FjyWSH",
    "outputId": "9c4c4d8c-082b-4f67-899d-369af510273b"
   },
   "outputs": [],
   "source": [
    "import random\n",
    "print('=================================')\n",
    "print('Bienvenido al Juego de Adivinanza')\n",
    "print('=================================')\n",
    "\n",
    "numero_secreto = random.randrange(1,101)\n",
    "\n",
    "print('Seleccione el nivel de dificultad')\n",
    "print('(1) Fácil  (2) Medio (3) Difícil')\n",
    "\n",
    "nivel = int(input('Ingrese nivel de dificultad: '))\n",
    "\n",
    "if(nivel == 1):\n",
    "  total_intentos = 20\n",
    "elif(nivel == 2):\n",
    "  total_intentos = 10\n",
    "else:\n",
    "  total_intentos = 5\n",
    "\n",
    "for iteracion in range(1, total_intentos +1):\n",
    "  print('Intento: {} de {} '.format(iteracion,total_intentos))\n",
    "  entrada = input('Digite un número entre 1 y 100: ')\n",
    "  entrada= int(entrada)\n",
    "  print('Digitaste ...', entrada)\n",
    "  if(entrada<1 or entrada >100):\n",
    "    print('Ingresar un número entre 1 y 100: ')\n",
    "    continue\n",
    "\n",
    "  acertaste = entrada == numero_secreto  # iguales\n",
    "  mayor = entrada > numero_secreto      # entrada es MAYOR\n",
    "  menor = entrada < numero_secreto      # entrada es MENOR\n",
    "\n",
    "\n",
    "  if(acertaste):\n",
    "    print('Felicitaciones !!! ... adivinaste el número')\n",
    "    break\n",
    "  elif(mayor):\n",
    "    print('Lo siento ... el número que ingresaste es mayor que el número secreto')\n",
    "  else:\n",
    "    print('Lo siento ... el número que ingresaste es menor que el número secreto')\n",
    "\n",
    "\n",
    "print('Fin del Juego')"
   ]
  },
  {
   "cell_type": "markdown",
   "metadata": {
    "id": "WG2XkFr71Xou"
   },
   "source": [
    "## Definiendo el cálculo de puntuación para el usuario ..."
   ]
  },
  {
   "cell_type": "code",
   "execution_count": null,
   "metadata": {
    "colab": {
     "base_uri": "https://localhost:8080/"
    },
    "id": "rDgllz3L4B5O",
    "outputId": "85a32be9-9c3a-47d7-bd8f-d13d4bb26591"
   },
   "outputs": [],
   "source": [
    "puntos_perdidos= abs(50-70)\n",
    "puntos_perdidos"
   ]
  },
  {
   "cell_type": "code",
   "execution_count": null,
   "metadata": {
    "colab": {
     "base_uri": "https://localhost:8080/"
    },
    "id": "Og-32oRG0hsC",
    "outputId": "4b098a00-73b1-40b8-8c31-332de333b272"
   },
   "outputs": [],
   "source": [
    "import random\n",
    "print('=================================')\n",
    "print('Bienvenido al Juego de Adivinanza')\n",
    "print('=================================')\n",
    "\n",
    "numero_secreto = random.randrange(1,101)\n",
    "puntaje = 1000     # puntos asignados\n",
    "\n",
    "print('Seleccione el nivel de dificultad'  , numero_secreto )\n",
    "print('(1) Fácil  (2) Medio (3) Difícil')\n",
    "\n",
    "nivel = int(input('Ingrese nivel de dificultad: '))\n",
    "\n",
    "if(nivel == 1):\n",
    "  total_intentos = 20\n",
    "elif(nivel == 2):\n",
    "  total_intentos = 10\n",
    "else:\n",
    "  total_intentos = 5\n",
    "\n",
    "for iteracion in range(1, total_intentos +1):\n",
    "  print('Intento: {} de {} '.format(iteracion,total_intentos))\n",
    "  entrada = input('Digite un número entre 1 y 100: ')\n",
    "  entrada= int(entrada)\n",
    "  print('Digitaste ...', entrada)\n",
    "  if(entrada<1 or entrada >100):\n",
    "    print('Ingresar un número entre 1 y 100: ')\n",
    "    continue\n",
    "\n",
    "  acertaste = entrada == numero_secreto  # iguales\n",
    "  mayor = entrada > numero_secreto      # entrada es MAYOR\n",
    "  menor = entrada < numero_secreto      # entrada es MENOR\n",
    "\n",
    "\n",
    "  if(acertaste):\n",
    "    print('Felicitaciones !!! ... adivinaste el número y ganaste {} puntos'.format(puntaje))\n",
    "    break\n",
    "  elif(mayor):\n",
    "    print('Lo siento ... el número que ingresaste es mayor que el número secreto')\n",
    "  else:\n",
    "    print('Lo siento ... el número que ingresaste es menor que el número secreto')\n",
    "\n",
    "  puntos_perdidos = abs(numero_secreto - entrada)\n",
    "  puntaje = puntaje - puntos_perdidos\n",
    "\n",
    "print('Fin del Juego')"
   ]
  },
  {
   "cell_type": "markdown",
   "metadata": {
    "id": "rHWkkFE8uPBG"
   },
   "source": [
    "# Segundo Proyecto: Juego de la Horca"
   ]
  },
  {
   "cell_type": "code",
   "execution_count": null,
   "metadata": {
    "colab": {
     "base_uri": "https://localhost:8080/"
    },
    "id": "Nxz3u5Y_uU49",
    "outputId": "3af67d88-2242-404b-93ba-3a559f20c11f"
   },
   "outputs": [],
   "source": [
    "print('================================')\n",
    "print('Bienvenido al Juego de la Horca')\n",
    "print('================================')\n",
    "\n",
    "print('Fin del Juego')"
   ]
  },
  {
   "cell_type": "markdown",
   "metadata": {
    "id": "i1LUkW22vkKc"
   },
   "source": [
    "# Crear set de Juegos"
   ]
  },
  {
   "cell_type": "code",
   "execution_count": null,
   "metadata": {
    "colab": {
     "base_uri": "https://localhost:8080/",
     "height": 495
    },
    "id": "JdE25WbAvu3O",
    "outputId": "7b67b5a5-1b4c-4ccd-ceaa-cb6b0de7279f"
   },
   "outputs": [],
   "source": [
    "import ahorcado\n",
    "import adivinanza\n",
    "\n",
    "print('================================')\n",
    "print('Elija su Juego')\n",
    "print('================================')\n",
    "\n",
    "print(\"(1) Horca (2) Adivinanza\")\n",
    "\n",
    "juego = int(input(\"¿Cuál juego? \"))\n",
    "\n",
    "if (juego == 1):\n",
    "    print(\"Jugando horca\")\n",
    "elif (juego == 2):\n",
    "    print(\"Jugando adivinanza\")"
   ]
  },
  {
   "cell_type": "markdown",
   "metadata": {
    "id": "TNotWbOA2g-M"
   },
   "source": [
    "# ¿Qué sucedió al ejecutar el código?"
   ]
  },
  {
   "cell_type": "markdown",
   "metadata": {
    "id": "Q0r1QFQL23jD"
   },
   "source": [
    "# Cargó cada uno de los programas y comenzaron a ejecutarse...pero, no queremos suceda eso. Queremos tener el control al ordenar que programa se va a ejecutar."
   ]
  },
  {
   "cell_type": "markdown",
   "metadata": {
    "id": "zOBOT5Y135AE"
   },
   "source": [
    "# Vamos a resolver el problema implementando FUNCIONES"
   ]
  },
  {
   "cell_type": "code",
   "execution_count": null,
   "metadata": {
    "id": "ayr9nedN2sH3"
   },
   "outputs": [],
   "source": [
    "import ahorcado\n",
    "import adivinanza\n",
    "\n",
    "print('================================')\n",
    "print('Elija su Juego')\n",
    "print('================================')\n",
    "\n",
    "print(\"(1) Horca (2) Adivinanza\")\n",
    "\n",
    "juego = int(input(\"¿Cuál juego? \"))\n",
    "\n",
    "if (juego == 1):\n",
    "    print(\"Jugando horca\")\n",
    "    jugar_ahorcado()\n",
    "elif (juego == 2):\n",
    "    print(\"Jugando adivinanza\")\n",
    "    jugar_adivinanza()"
   ]
  },
  {
   "cell_type": "markdown",
   "metadata": {
    "id": "UhR31Qx983zL"
   },
   "source": [
    "# Ver diapositiva #21"
   ]
  },
  {
   "cell_type": "code",
   "execution_count": null,
   "metadata": {
    "id": "cc6-9FBBtrIP"
   },
   "outputs": [],
   "source": [
    "import random\n",
    "def jugar_adivinanza():\n",
    "  print('=================================')\n",
    "  print('Bienvenido al Juego de Adivinanza')\n",
    "  print('=================================')\n",
    "\n",
    "  numero_secreto = random.randrange(1,101)\n",
    "  puntaje = 1000     # puntos asignados\n",
    "\n",
    "  print('Seleccione el nivel de dificultad'  , numero_secreto )\n",
    "  print('(1) Fácil  (2) Medio (3) Difícil')\n",
    "\n",
    "  nivel = int(input('Ingrese nivel de dificultad: '))\n",
    "\n",
    "  if(nivel == 1):\n",
    "    total_intentos = 20\n",
    "  elif(nivel == 2):\n",
    "    total_intentos = 10\n",
    "  else:\n",
    "    total_intentos = 5\n",
    "\n",
    "  for iteracion in range(1, total_intentos +1):\n",
    "    print('Intento: {} de {} '.format(iteracion,total_intentos))\n",
    "    entrada = input('Digite un número entre 1 y 100: ')\n",
    "    entrada= int(entrada)\n",
    "    print('Digitaste ...', entrada)\n",
    "    if(entrada<1 or entrada >100):\n",
    "      print('Ingresar un número entre 1 y 100: ')\n",
    "      continue\n",
    "\n",
    "    acertaste = entrada == numero_secreto  # iguales\n",
    "    mayor = entrada > numero_secreto      # entrada es MAYOR\n",
    "    menor = entrada < numero_secreto      # entrada es MENOR\n",
    "\n",
    "\n",
    "    if(acertaste):\n",
    "      print('Felicitaciones !!! ... adivinaste el número y ganaste {} puntos'.format(puntaje))\n",
    "      break\n",
    "    elif(mayor):\n",
    "      print('Lo siento ... el número que ingresaste es mayor que el número secreto')\n",
    "    else:\n",
    "      print('Lo siento ... el número que ingresaste es menor que el número secreto')\n",
    "\n",
    "    puntos_perdidos = abs(numero_secreto - entrada)\n",
    "    puntaje = puntaje - puntos_perdidos\n",
    "\n",
    "  print('Fin del Juego')"
   ]
  },
  {
   "cell_type": "code",
   "execution_count": null,
   "metadata": {
    "id": "jXFsl7_l_YAC"
   },
   "outputs": [],
   "source": [
    "def jugar_horca():\n",
    "  print('================================')\n",
    "  print('Bienvenido al Juego de la Horca')\n",
    "  print('================================')\n",
    "\n",
    "  print(\"Fin del Juego\")"
   ]
  },
  {
   "cell_type": "markdown",
   "metadata": {
    "id": "aImWqQ6W_5IC"
   },
   "source": [
    "# Regresando al código principal que llama a los juegos ... Volvemos a cargar los programas de los juegos, con los cambios realizados y ejecutamos nuevamente."
   ]
  },
  {
   "cell_type": "markdown",
   "metadata": {
    "colab": {
     "base_uri": "https://localhost:8080/"
    },
    "id": "RSU3t4Y8AAqp",
    "outputId": "d2d32f56-c300-4a2f-e86f-803e7807b2bc"
   },
   "source": [
    "import horca\n",
    "import adivinanza\n",
    "\n",
    "print('================================')\n",
    "print('Elija su Juego')\n",
    "print('================================')\n",
    "\n",
    "print(\"(1) Horca (2) Adivinanza\")\n",
    "\n",
    "juego = int(input(\"¿Cuál juego? \"))\n",
    "\n",
    "if (juego == 1):\n",
    "    print(\"Jugando horca\")\n",
    "    horca.jugar_horca()\n",
    "elif (juego == 2):\n",
    "    print(\"Jugando adivinanza\")\n",
    "    adivinanza.jugar_adivinanza()"
   ]
  },
  {
   "cell_type": "markdown",
   "metadata": {},
   "source": [
    "## ¿Qué sucede si queremos correr individualmente cada programa?"
   ]
  },
  {
   "cell_type": "markdown",
   "metadata": {},
   "source": [
    "## NO corre ... entonces hacems lo siguiente ..."
   ]
  },
  {
   "cell_type": "code",
   "execution_count": null,
   "metadata": {},
   "outputs": [],
   "source": [
    "import random\n",
    "def jugar_adivinanza():\n",
    "  print('=================================')\n",
    "  print('Bienvenido al Juego de Adivinanza')\n",
    "  print('=================================')\n",
    "\n",
    "  numero_secreto = random.randrange(1,101)\n",
    "  puntaje = 1000     # puntos asignados\n",
    "\n",
    "  print('Seleccione el nivel de dificultad'  , numero_secreto )\n",
    "  print('(1) Fácil  (2) Medio (3) Difícil')\n",
    "\n",
    "  nivel = int(input('Ingrese nivel de dificultad: '))\n",
    "\n",
    "  if(nivel == 1):\n",
    "    total_intentos = 20\n",
    "  elif(nivel == 2):\n",
    "    total_intentos = 10\n",
    "  else:\n",
    "    total_intentos = 5\n",
    "\n",
    "  for iteracion in range(1, total_intentos +1):\n",
    "    print('Intento: {} de {} '.format(iteracion,total_intentos))\n",
    "    entrada = input('Digite un número entre 1 y 100: ')\n",
    "    entrada= int(entrada)\n",
    "    print('Digitaste ...', entrada)\n",
    "    if(entrada<1 or entrada >100):\n",
    "      print('Ingresar un número entre 1 y 100: ')\n",
    "      continue\n",
    "\n",
    "    acertaste = entrada == numero_secreto  # iguales\n",
    "    mayor = entrada > numero_secreto      # entrada es MAYOR\n",
    "    menor = entrada < numero_secreto      # entrada es MENOR\n",
    "\n",
    "\n",
    "    if(acertaste):\n",
    "      print('Felicitaciones !!! ... adivinaste el número y ganaste {} puntos'.format(puntaje))\n",
    "      break\n",
    "    elif(mayor):\n",
    "      print('Lo siento ... el número que ingresaste es mayor que el número secreto')\n",
    "    else:\n",
    "      print('Lo siento ... el número que ingresaste es menor que el número secreto')\n",
    "\n",
    "    puntos_perdidos = abs(numero_secreto - entrada)\n",
    "    puntaje = puntaje - puntos_perdidos\n",
    "\n",
    "  print('Fin del Juego')\n",
    "\n",
    "if(__name__ == \"__main__\"):\n",
    "    jugar_adivinanza()"
   ]
  },
  {
   "cell_type": "markdown",
   "metadata": {},
   "source": [
    "## ... y guardamos el programa como un archivo de python: adivinanza.py  y lo ejecutamos en la ventana de terminal. Luego hacemos el mismo cambio para el otro juego.\n"
   ]
  },
  {
   "cell_type": "code",
   "execution_count": null,
   "metadata": {},
   "outputs": [],
   "source": [
    "def jugar_horca():\n",
    "  print('================================')\n",
    "  print('Bienvenido al Juego de la Horca')\n",
    "  print('================================')\n",
    "\n",
    "  print(\"Fin del Juego\")\n",
    "    \n",
    "if(__name__ == \"__main__\"):\n",
    "    jugar_horca()"
   ]
  },
  {
   "cell_type": "markdown",
   "metadata": {},
   "source": [
    "## Hacemos también el cambio en el programa juegos.py ... y luego lo ejecutamos ..."
   ]
  },
  {
   "cell_type": "code",
   "execution_count": null,
   "metadata": {},
   "outputs": [],
   "source": [
    "def escoger_juego():\n",
    "    import horca\n",
    "    import adivinanza\n",
    "\n",
    "    print('================================')\n",
    "    print('Elija su Juego')\n",
    "    print('================================')\n",
    "\n",
    "    print(\"(1) Horca (2) Adivinanza\")\n",
    "\n",
    "    juego = int(input(\"¿Cuál juego? \"))\n",
    "\n",
    "    if (juego == 1):\n",
    "        print(\"Jugando horca\")\n",
    "        horca.jugar_horca()\n",
    "    elif (juego == 2):\n",
    "        print(\"Jugando adivinanza\")\n",
    "        adivinanza.jugar_adivinanza()\n",
    "\n",
    "if(__name__ == \"__main__\"):\n",
    "    escoger_juego()"
   ]
  },
  {
   "cell_type": "markdown",
   "metadata": {},
   "source": [
    "## Ir diapositiva 24"
   ]
  },
  {
   "cell_type": "markdown",
   "metadata": {},
   "source": [
    "## Avancemos con el juego de la Horca ..."
   ]
  },
  {
   "cell_type": "code",
   "execution_count": null,
   "metadata": {},
   "outputs": [],
   "source": [
    "def jugar_horca():\n",
    "  print('================================')\n",
    "  print('Bienvenido al Juego de la Horca')\n",
    "  print('================================')\n",
    "\n",
    "  palabra_secreta='mandarina'\n",
    "  acerto = False\n",
    "  colgado = False\n",
    "\n",
    "  # mientras no colgado y no acerto ...\n",
    "  while(not colgado and not acerto):\n",
    "\n",
    "      print('jugando ...')  \n",
    "    \n",
    "  print(\"Fin del Juego\")\n",
    "    \n",
    "if(__name__ == \"__main__\"):\n",
    "    jugar_horca()"
   ]
  },
  {
   "cell_type": "markdown",
   "metadata": {},
   "source": [
    "## Manipulando CADENAS"
   ]
  },
  {
   "cell_type": "code",
   "execution_count": null,
   "metadata": {},
   "outputs": [],
   "source": [
    "palabra ='mandarina'\n",
    "type(palabra)"
   ]
  },
  {
   "cell_type": "code",
   "execution_count": null,
   "metadata": {},
   "outputs": [],
   "source": [
    "palabra.find('m')"
   ]
  },
  {
   "cell_type": "code",
   "execution_count": null,
   "metadata": {},
   "outputs": [],
   "source": [
    "palabra.find('d')"
   ]
  },
  {
   "cell_type": "markdown",
   "metadata": {},
   "source": [
    "## Si no ecuentra el valor, devuelve -1"
   ]
  },
  {
   "cell_type": "code",
   "execution_count": null,
   "metadata": {},
   "outputs": [],
   "source": [
    "palabra.find('z')"
   ]
  },
  {
   "cell_type": "markdown",
   "metadata": {},
   "source": [
    "## Podemos recorrer la cadena utilizando un ciclo FOR"
   ]
  },
  {
   "cell_type": "code",
   "execution_count": null,
   "metadata": {},
   "outputs": [],
   "source": [
    "for letra in palabra:\n",
    "    print(letra)"
   ]
  },
  {
   "cell_type": "markdown",
   "metadata": {},
   "source": [
    "## Volviendo al código del juego ..."
   ]
  },
  {
   "cell_type": "code",
   "execution_count": null,
   "metadata": {},
   "outputs": [],
   "source": [
    "def jugar_horca():\n",
    "  print('================================')\n",
    "  print('Bienvenido al Juego de la Horca')\n",
    "  print('================================')\n",
    "\n",
    "  palabra_secreta='mandarina'\n",
    "  acerto = False\n",
    "  colgado = False\n",
    "  \n",
    "  # mientras no colgado y no acerto ...\n",
    "  while(not colgado and not acerto):\n",
    "      \n",
    "      entrada = input('Ingrese una letra ...')  \n",
    "    \n",
    "      for letra in palabra_secreta:\n",
    "        if(entrada== letra):\n",
    "            print(letra)\n",
    "        \n",
    "      print('jugando ...')\n",
    "      \n",
    "    \n",
    "  print(\"Fin del Juego\")\n",
    "    \n",
    "if(__name__ == \"__main__\"):\n",
    "    jugar_horca()"
   ]
  },
  {
   "cell_type": "markdown",
   "metadata": {},
   "source": [
    "## ¿Cómo saber la posición en la que se encontró la letra ingresada?\n",
    "\n",
    "\n",
    "## ... vamos a utilizar un ... indice ....\n"
   ]
  },
  {
   "cell_type": "code",
   "execution_count": null,
   "metadata": {},
   "outputs": [],
   "source": [
    "def jugar_horca():\n",
    "  print('================================')\n",
    "  print('Bienvenido al Juego de la Horca')\n",
    "  print('================================')\n",
    "\n",
    "  palabra_secreta='mandarina'\n",
    "  acerto = False\n",
    "  colgado = False\n",
    "  \n",
    "\n",
    "  while(not colgado and not acerto):\n",
    "      \n",
    "      entrada = input('Ingrese una letra ...')  \n",
    "      indice = 0\n",
    "    \n",
    "    \n",
    "      for letra in palabra_secreta:\n",
    "        if(entrada== letra):\n",
    "            print('Se econtró la letra {} en la posición {}'.format(letra,indice))\n",
    "            \n",
    "        indice = indice +1\n",
    "        \n",
    "      print('jugando ...')\n",
    "      \n",
    "    \n",
    "  print(\"Fin del Juego\")\n",
    "    \n",
    "if(__name__ == \"__main__\"):\n",
    "    jugar_horca()"
   ]
  },
  {
   "cell_type": "markdown",
   "metadata": {},
   "source": [
    "## ¿Qué sucede si ingresamos una letra mayúscula en vez de una minúscula?\n",
    "\n",
    "\n",
    "## ¿Cómo resolvemos esa situación?"
   ]
  },
  {
   "cell_type": "code",
   "execution_count": null,
   "metadata": {},
   "outputs": [],
   "source": [
    "# ejemplos de funciones para manejo de cadenas\n",
    "\n",
    "palabra = 'mandarina'\n",
    "palabra.capitalize()"
   ]
  },
  {
   "cell_type": "code",
   "execution_count": null,
   "metadata": {},
   "outputs": [],
   "source": [
    "palabra.upper()"
   ]
  },
  {
   "cell_type": "code",
   "execution_count": null,
   "metadata": {},
   "outputs": [],
   "source": [
    "palabra='LENGUAJE PYTHON'\n",
    "palabra.lower()"
   ]
  },
  {
   "cell_type": "markdown",
   "metadata": {},
   "source": [
    "## Cuando ingresamos erróneamente espacios en blanco ..."
   ]
  },
  {
   "cell_type": "code",
   "execution_count": null,
   "metadata": {},
   "outputs": [],
   "source": [
    "palabra = '   abc     '\n",
    "palabra.strip()"
   ]
  },
  {
   "cell_type": "markdown",
   "metadata": {},
   "source": [
    "## Volviendo al código ..."
   ]
  },
  {
   "cell_type": "code",
   "execution_count": null,
   "metadata": {},
   "outputs": [],
   "source": [
    "def jugar_horca():\n",
    "  print('================================')\n",
    "  print('Bienvenido al Juego de la Horca')\n",
    "  print('================================')\n",
    "\n",
    "  palabra_secreta='mandarina'\n",
    "  acerto = False\n",
    "  colgado = False\n",
    "  \n",
    "\n",
    "  while(not colgado and not acerto):\n",
    "      \n",
    "      entrada = input('Ingrese una letra ...') \n",
    "      entrada = entrada.strip()\n",
    "      indice = 0\n",
    "    \n",
    "    \n",
    "      for letra in palabra_secreta:\n",
    "        if(entrada.upper == letra.upper):\n",
    "            print('Se econtró la letra {} en la posición {}'.format(letra,indice))\n",
    "            \n",
    "        indice = indice +1\n",
    "        \n",
    "      print('jugando ...')\n",
    "      \n",
    "    \n",
    "  print(\"Fin del Juego\")\n",
    "    \n",
    "if(__name__ == \"__main__\"):\n",
    "    jugar_horca()"
   ]
  },
  {
   "cell_type": "code",
   "execution_count": null,
   "metadata": {},
   "outputs": [],
   "source": [
    "def jugar():\n",
    "  print('================================')\n",
    "  print('Bienvenido al Juego del Ahorcado')\n",
    "  print('================================')\n",
    "\n",
    "  palabra_secreta ='mandarina'\n",
    "  letras_acertadas =['_','_','_','_','_','_','_','_','_']\n",
    "  \n",
    "  ahorcado = False\n",
    "  acerto = False\n",
    "  \n",
    "  print(letras_acertadas)\n",
    "  while(not ahorcado and not acerto):\n",
    "    entrada = input('Ingrese una letra ...')\n",
    "    entrada = entrada.strip()                 # elimina espacio en blanco a la izquierda y derecha\n",
    "    entrada = entrada.lower()                 # convierte a letras minúsculas\n",
    "    indice = 0\n",
    "    for letra in palabra_secreta:\n",
    "        if(entrada==letra):\n",
    "            letras_acertadas[indice] = letra\n",
    "\n",
    "        indice = indice + 1\n",
    "    print(letras_acertadas)\n",
    "\n",
    "\n",
    "  print(\"Fin del Juego\")\n",
    "    \n",
    "if(__name__ == \"__main__\"):\n",
    "    jugar()"
   ]
  }
 ],
 "metadata": {
  "colab": {
   "provenance": []
  },
  "kernelspec": {
   "display_name": "Python 3",
   "language": "python",
   "name": "python3"
  },
  "language_info": {
   "codemirror_mode": {
    "name": "ipython",
    "version": 3
   },
   "file_extension": ".py",
   "mimetype": "text/x-python",
   "name": "python",
   "nbconvert_exporter": "python",
   "pygments_lexer": "ipython3",
   "version": "3.7.1"
  }
 },
 "nbformat": 4,
 "nbformat_minor": 1
}
